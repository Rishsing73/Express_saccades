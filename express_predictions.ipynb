{
 "cells": [
  {
   "cell_type": "code",
   "execution_count": 1,
   "id": "08c65e13",
   "metadata": {},
   "outputs": [],
   "source": [
    "\n",
    "\n",
    "from IPython.display import Audio\n",
    "def alarm():\n",
    "      display(Audio(url='https://sound.peal.io/ps/audios/000/000/537/original/woo_vu_luvub_dub_dub.wav', autoplay=True))"
   ]
  },
  {
   "cell_type": "code",
   "execution_count": 2,
   "id": "ca687c0f",
   "metadata": {},
   "outputs": [],
   "source": [
    "import numpy as np\n",
    "# import seaborn as sns\n",
    "import pandas as pd\n",
    "import matplotlib.pyplot as plt\n",
    "import os\n",
    "from scipy.optimize import curve_fit\n",
    "from scipy.special import expit,logit\n",
    "from datetime import date\n",
    "import matplotlib as mpl\n",
    "import time\n",
    "from scipy import stats\n",
    "mpl.style.use('classic')\n",
    "pd.options.mode.chained_assignment = None"
   ]
  },
  {
   "attachments": {},
   "cell_type": "markdown",
   "id": "376c9637",
   "metadata": {},
   "source": [
    "#### In this Notebook We will try to predict the express saccades based upon reward history and the states (Explore vs  EXploit)"
   ]
  },
  {
   "cell_type": "code",
   "execution_count": 3,
   "id": "625b00d9",
   "metadata": {},
   "outputs": [
    {
     "name": "stdout",
     "output_type": "stream",
     "text": [
      "10.634357929229736\n"
     ]
    }
   ],
   "source": [
    "# Read the file\n",
    "\n",
    "start = time.time()\n",
    "df1 = pd.read_pickle('../arm_bandit/kirk/kirk.pkl')\n",
    "nd = time.time()\n",
    "print(nd-start)"
   ]
  },
  {
   "cell_type": "code",
   "execution_count": 4,
   "id": "4ee8e05b",
   "metadata": {},
   "outputs": [
    {
     "data": {
      "text/html": [
       "<div>\n",
       "<style scoped>\n",
       "    .dataframe tbody tr th:only-of-type {\n",
       "        vertical-align: middle;\n",
       "    }\n",
       "\n",
       "    .dataframe tbody tr th {\n",
       "        vertical-align: top;\n",
       "    }\n",
       "\n",
       "    .dataframe thead th {\n",
       "        text-align: right;\n",
       "    }\n",
       "</style>\n",
       "<table border=\"1\" class=\"dataframe\">\n",
       "  <thead>\n",
       "    <tr style=\"text-align: right;\">\n",
       "      <th></th>\n",
       "      <th>trial</th>\n",
       "      <th>state</th>\n",
       "      <th>switch</th>\n",
       "      <th>rewarded</th>\n",
       "      <th>choice</th>\n",
       "      <th>correct</th>\n",
       "      <th>t1Rwd</th>\n",
       "      <th>t2Rwd</th>\n",
       "      <th>t3Rwd</th>\n",
       "      <th>animal_date</th>\n",
       "      <th>targOn</th>\n",
       "      <th>targAcq</th>\n",
       "      <th>rt</th>\n",
       "    </tr>\n",
       "    <tr>\n",
       "      <th>stimTrial</th>\n",
       "      <th></th>\n",
       "      <th></th>\n",
       "      <th></th>\n",
       "      <th></th>\n",
       "      <th></th>\n",
       "      <th></th>\n",
       "      <th></th>\n",
       "      <th></th>\n",
       "      <th></th>\n",
       "      <th></th>\n",
       "      <th></th>\n",
       "      <th></th>\n",
       "      <th></th>\n",
       "    </tr>\n",
       "  </thead>\n",
       "  <tbody>\n",
       "    <tr>\n",
       "      <th>0</th>\n",
       "      <td>30429</td>\n",
       "      <td>26780</td>\n",
       "      <td>26907</td>\n",
       "      <td>26780</td>\n",
       "      <td>26907</td>\n",
       "      <td>30429</td>\n",
       "      <td>30429</td>\n",
       "      <td>30429</td>\n",
       "      <td>30429</td>\n",
       "      <td>30429</td>\n",
       "      <td>26910</td>\n",
       "      <td>26907</td>\n",
       "      <td>26907</td>\n",
       "    </tr>\n",
       "    <tr>\n",
       "      <th>1</th>\n",
       "      <td>4486</td>\n",
       "      <td>3904</td>\n",
       "      <td>3929</td>\n",
       "      <td>3904</td>\n",
       "      <td>3929</td>\n",
       "      <td>4486</td>\n",
       "      <td>4486</td>\n",
       "      <td>4486</td>\n",
       "      <td>4486</td>\n",
       "      <td>4486</td>\n",
       "      <td>3930</td>\n",
       "      <td>3929</td>\n",
       "      <td>3929</td>\n",
       "    </tr>\n",
       "  </tbody>\n",
       "</table>\n",
       "</div>"
      ],
      "text/plain": [
       "           trial  state  switch  rewarded  choice  correct  t1Rwd  t2Rwd  \\\n",
       "stimTrial                                                                  \n",
       "0          30429  26780   26907     26780   26907    30429  30429  30429   \n",
       "1           4486   3904    3929      3904    3929     4486   4486   4486   \n",
       "\n",
       "           t3Rwd  animal_date  targOn  targAcq     rt  \n",
       "stimTrial                                              \n",
       "0          30429        30429   26910    26907  26907  \n",
       "1           4486         4486    3930     3929   3929  "
      ]
     },
     "execution_count": 4,
     "metadata": {},
     "output_type": "execute_result"
    }
   ],
   "source": [
    "df = df1[['trial','state', 'switch', 'stimTrial', 'rewarded','choice', 'correct','t1Rwd','t2Rwd','t3Rwd','animal_date','targOn','targAcq','rt']]\n",
    "df.groupby(df['stimTrial']).count() # checking how many stimulated trials there are, we won'be be using these stimulation trials"
   ]
  },
  {
   "cell_type": "code",
   "execution_count": 6,
   "id": "d3378f2a",
   "metadata": {},
   "outputs": [
    {
     "data": {
      "text/plain": [
       "(29532, 29532)"
      ]
     },
     "execution_count": 6,
     "metadata": {},
     "output_type": "execute_result"
    }
   ],
   "source": [
    "df = df[df['correct'] == 1] # choose only correct trials\n",
    "df = df[df['rt'] >0.1] # remove the anticipatory responses\n",
    "prob_r = np.fromfile('./exp_probability_kirk', dtype='int16') # read the express sacad probability - 1 for express, 0 for normal\n",
    "len(prob_r), len(df) # check if the length of the probability array is the same as the number of trials"
   ]
  },
  {
   "cell_type": "code",
   "execution_count": 7,
   "id": "beec46d4",
   "metadata": {},
   "outputs": [],
   "source": [
    "df['explore'] = np.where(df['state'] == 1, 1, 0) # 1 for explore, 0 for exploit, make a new column\n",
    "df['predict'] = prob_r # also add the express probability to the dataframe to locate the express trials\n"
   ]
  },
  {
   "cell_type": "code",
   "execution_count": 12,
   "id": "b72efc99",
   "metadata": {},
   "outputs": [],
   "source": [
    "# Let's create the input matrix for the logistic regression, it will be rows of 5 previous rewards and 1 for explore and 0 for exploit\n",
    "\n",
    "rwd = np.array(df['rewarded'].values) # create an array of rewards\n",
    "rwd = np.pad(rwd, (5, 0), 'constant', constant_values=(0.0)) #pad them with 5 zeros for first trial\n",
    "x = rwd[:-5] # and then take the rewards till the last 5\n",
    "for i in range(1,5):\n",
    "    x = np.vstack((x,rwd[(i):(len(rwd)-5+i)])) # stack the rewards for the previous 5 trials\n",
    "x = x.T\n",
    "x = np.hstack((x,1-df['explore'].values.reshape(-1,1))) # add the explore column\n",
    "df['training_x'] = list(x) # add the input matrix to the dataframe\n",
    "\n",
    "# Now remove the stimulated trials\n",
    "\n",
    "df = df[df['stimTrial'] == 0]"
   ]
  },
  {
   "cell_type": "code",
   "execution_count": 19,
   "id": "8adac012",
   "metadata": {},
   "outputs": [
    {
     "name": "stdout",
     "output_type": "stream",
     "text": [
      "Accuracy of logistic regression classifier on test set: 0.58\n",
      "[[1524 1463]\n",
      " [ 726 1440]]\n",
      "              precision    recall  f1-score   support\n",
      "\n",
      "           0       0.68      0.51      0.58      2987\n",
      "           1       0.50      0.66      0.57      2166\n",
      "\n",
      "    accuracy                           0.58      5153\n",
      "   macro avg       0.59      0.59      0.58      5153\n",
      "weighted avg       0.60      0.58      0.58      5153\n",
      "\n"
     ]
    }
   ],
   "source": [
    "'''\n",
    "lets try to fit the data with a logistic regression\n",
    "'''\n",
    "import sklearn\n",
    "from sklearn.linear_model import LinearRegression\n",
    "from sklearn.linear_model import LogisticRegression\n",
    "from sklearn.model_selection import train_test_split\n",
    "from sklearn.metrics import accuracy_score\n",
    "from sklearn.metrics import confusion_matrix\n",
    "from sklearn.metrics import classification_report\n",
    "from sklearn.metrics import roc_curve\n",
    "from sklearn.metrics import roc_auc_score\n",
    "\n",
    "\n",
    "x = np.array(df['training_x'].values.tolist())\n",
    "y = 1-df['predict'].values\n",
    "x,y = sklearn.utils.shuffle(x,y , random_state=73)\n",
    "X_train, X_test, y_train, y_test = train_test_split(x, y, test_size=0.2, random_state=73)\n",
    "\n",
    "logreg = LogisticRegression( random_state=0, class_weight = 'balanced') # Use weight to balance the classes\n",
    "logreg.fit(X_train, y_train)\n",
    "y_pred = logreg.predict(X_test)\n",
    "print('Accuracy of logistic regression classifier on test set: {:.2f}'.format(sum(y_pred == y_test)/len(y_test)))\n",
    "\n",
    "confusion_matrix = confusion_matrix(y_test, y_pred)\n",
    "print(confusion_matrix)\n",
    "print(classification_report(y_test, y_pred))"
   ]
  },
  {
   "cell_type": "code",
   "execution_count": 20,
   "id": "e692acbc",
   "metadata": {},
   "outputs": [
    {
     "name": "stdout",
     "output_type": "stream",
     "text": [
      "[[0.14413417 0.12438162 0.1567757  0.13710934 0.36067107 0.56179734]]\n"
     ]
    }
   ],
   "source": [
    "print(logreg.coef_)"
   ]
  },
  {
   "cell_type": "code",
   "execution_count": 22,
   "id": "96538480",
   "metadata": {},
   "outputs": [
    {
     "data": {
      "image/png": "[encoded data removed]",
      "text/plain": [
       "<Figure size 640x480 with 1 Axes>"
      ]
     },
     "metadata": {},
     "output_type": "display_data"
    }
   ],
   "source": [
    "from sklearn.metrics import roc_auc_score\n",
    "from sklearn.metrics import roc_curve\n",
    "logit_roc_auc = roc_auc_score(y_test, logreg.predict(X_test))\n",
    "fpr, tpr, thresholds = roc_curve(y_test, logreg.predict_proba(X_test)[:,1])\n",
    "plt.figure()\n",
    "plt.plot(fpr, tpr, label='Logistic Regression (area = %0.2f)' % logit_roc_auc)\n",
    "plt.plot([0, 1], [0, 1],'r--')\n",
    "plt.xlim([0.0, 1.0])\n",
    "plt.ylim([0.0, 1.05])\n",
    "plt.xlabel('False Positive Rate')\n",
    "plt.ylabel('True Positive Rate')\n",
    "plt.title('Receiver operating characteristic')\n",
    "plt.legend(loc=\"lower right\")\n",
    "# plt.savefig('Log_ROC')\n",
    "plt.show()"
   ]
  },
  {
   "attachments": {},
   "cell_type": "markdown",
   "id": "3f3ac2c8",
   "metadata": {},
   "source": [
    "### We are going to repeat the analysis but session wise.\n",
    "###"
   ]
  },
  {
   "cell_type": "code",
   "execution_count": 33,
   "id": "365869be",
   "metadata": {},
   "outputs": [
    {
     "name": "stdout",
     "output_type": "stream",
     "text": [
      "[0. 0. 0. 0. 0. 0.]\n",
      "Accuracy of logistic regression classifier on test set: 0.51\n",
      "Accuracy of logistic regression classifier on test set: 0.56\n",
      "Accuracy of logistic regression classifier on test set: 0.56\n",
      "Accuracy of logistic regression classifier on test set: 0.58\n",
      "Accuracy of logistic regression classifier on test set: 0.59\n",
      "Accuracy of logistic regression classifier on test set: 0.51\n",
      "Accuracy of logistic regression classifier on test set: 0.51\n",
      "Accuracy of logistic regression classifier on test set: 0.58\n",
      "Accuracy of logistic regression classifier on test set: 0.54\n",
      "Accuracy of logistic regression classifier on test set: 0.65\n",
      "Accuracy of logistic regression classifier on test set: 0.58\n",
      "Accuracy of logistic regression classifier on test set: 0.60\n",
      "Accuracy of logistic regression classifier on test set: 0.54\n",
      "Accuracy of logistic regression classifier on test set: 0.55\n",
      "Accuracy of logistic regression classifier on test set: 0.52\n",
      "Accuracy of logistic regression classifier on test set: 0.60\n",
      "Accuracy of logistic regression classifier on test set: 0.54\n",
      "Accuracy of logistic regression classifier on test set: 0.54\n",
      "Accuracy of logistic regression classifier on test set: 0.59\n",
      "Accuracy of logistic regression classifier on test set: 0.58\n"
     ]
    }
   ],
   "source": [
    "import sklearn\n",
    "from sklearn.linear_model import LinearRegression\n",
    "from sklearn.linear_model import LogisticRegression\n",
    "from sklearn.model_selection import train_test_split\n",
    "from sklearn.metrics import accuracy_score\n",
    "from sklearn.metrics import confusion_matrix\n",
    "from sklearn.metrics import classification_report\n",
    "from sklearn.metrics import roc_curve\n",
    "from sklearn.metrics import roc_auc_score\n",
    "\n",
    "# starting from the begining\n",
    "\n",
    "coef = []\n",
    "accuracy_score = []\n",
    "df = df1[['trial','state', 'switch', 'stimTrial', 'rewarded','choice', 'correct','t1Rwd','t2Rwd','t3Rwd','animal_date','targOn','targAcq','rt']]\n",
    "df = df[df['correct'] == 1]\n",
    "df = df[df['rt'] >0.1]\n",
    "prob_r = np.fromfile('./exp_probability_kirk', dtype='int16')\n",
    "df['explore'] = np.where(df['state'] == 1, 1, 0)\n",
    "df['y'] = prob_r\n",
    "\n",
    "rwd = np.array(df['rewarded'].values) # create an array of rewards\n",
    "rwd = np.pad(rwd, (5, 0), 'constant', constant_values=(0.0)) #pad them with 5 zeros for first trial\n",
    "x = rwd[:-5] # and then take the rewards till the last 5\n",
    "for i in range(1,5):\n",
    "    x = np.vstack((x,rwd[(i):(len(rwd)-5+i)])) # stack the rewards for the previous 5 trials\n",
    "x = x.T\n",
    "x = np.hstack((x,1-df['explore'].values.reshape(-1,1))) # add the explore column\n",
    "\n",
    "# P.S. --> For now it is fine, but for changes in matrix alwyas make sure it is matching to what you thought by printing some of it\n",
    "\n",
    "df['training_x'] = list(x) # add the input matrix to the dataframe\n",
    "\n",
    "# Now remove the stimulated trials\n",
    "\n",
    "df = df[df['stimTrial'] == 0]\n",
    "\n",
    "\n",
    "dates = list(set(df['animal_date'].values))\n",
    "for date in dates:\n",
    "    df_date = df[df['animal_date'] == date]\n",
    "    x = np.array(df_date['training_x'].values.tolist())\n",
    "    y = 1-df_date['y'].values\n",
    "    \n",
    "    x,y = sklearn.utils.shuffle(x,y , random_state=73)\n",
    "    X_train, X_test, y_train, y_test = train_test_split(x, y, test_size=0.2, random_state=73)\n",
    "    logreg = LogisticRegression( random_state=0, class_weight = 'balanced')\n",
    "    logreg.fit(X_train, y_train)\n",
    "    y_pred = logreg.predict(X_test)\n",
    "    print('Accuracy of logistic regression classifier on test set: {:.2f}'.format(logreg.score(X_test, y_test)))\n",
    "\n",
    "    '''\n",
    "    We are going to store the coefficients of the logistic regression\n",
    "    '''\n",
    "    coef.append(logreg.coef_)\n",
    "    accuracy_score.append(logreg.score(X_test, y_test))"
   ]
  },
  {
   "cell_type": "code",
   "execution_count": 31,
   "id": "d457062e",
   "metadata": {},
   "outputs": [
    {
     "data": {
      "text/plain": [
       "<matplotlib.collections.LineCollection at 0x10daf8f10>"
      ]
     },
     "execution_count": 31,
     "metadata": {},
     "output_type": "execute_result"
    },
    {
     "data": {
      "image/png": "[encoded data removed]",
      "text/plain": [
       "<Figure size 640x480 with 1 Axes>"
      ]
     },
     "metadata": {},
     "output_type": "display_data"
    }
   ],
   "source": [
    "# lets plot the accuracy score\n",
    "plt.plot(accuracy_score, '-o')\n",
    "plt.ylim(0,1)\n",
    "plt.hlines(0.5,0, len(accuracy_score), color = 'r')"
   ]
  },
  {
   "cell_type": "code",
   "execution_count": 70,
   "id": "44d29dd9",
   "metadata": {},
   "outputs": [
    {
     "data": {
      "image/png": "[encoded data removed]",
      "text/plain": [
       "<Figure size 800x800 with 1 Axes>"
      ]
     },
     "metadata": {},
     "output_type": "display_data"
    }
   ],
   "source": [
    "'''\n",
    "Here We will plot a nice scientific, colorful scatter plot of the coefficients with std error\n",
    "x axis will be the reward for the previous 5 trials and state\n",
    "'''\n",
    "coef = np.array(coef)\n",
    "real_coef = np.mean(coef, axis = 0)\n",
    "error = np.std(coef, axis = 0)\n",
    "plt.figure(figsize = (10,10))\n",
    "plt.scatter(np.arange(0,6), real_coef[0,:] , color = 'black', s = 100)\n",
    "# put error bars\n",
    "plt.errorbar(np.arange(0,6), real_coef[0,:] , yerr = error[0,:]/2, color = 'grey', linestyle = 'None', capsize = 5, capthick = 2)\n",
    "plt.ylim(0,0.8)\n",
    "plt.savefig('weight_effect.svg')"
   ]
  },
  {
   "cell_type": "markdown",
   "id": "012e7133",
   "metadata": {},
   "source": []
  }
 ],
 "metadata": {
  "kernelspec": {
   "display_name": "Python 3 (ipykernel)",
   "language": "python",
   "name": "python3"
  },
  "language_info": {
   "codemirror_mode": {
    "name": "ipython",
    "version": 3
   },
   "file_extension": ".py",
   "mimetype": "text/x-python",
   "name": "python",
   "nbconvert_exporter": "python",
   "pygments_lexer": "ipython3",
   "version": "3.9.5"
  }
 },
 "nbformat": 4,
 "nbformat_minor": 5
}
